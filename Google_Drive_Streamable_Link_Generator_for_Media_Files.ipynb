{
  "nbformat": 4,
  "nbformat_minor": 0,
  "metadata": {
    "colab": {
      "name": "Google Drive Streamable Link Generator for Media Files.ipynb",
      "provenance": [],
      "collapsed_sections": []
    },
    "kernelspec": {
      "name": "python3",
      "display_name": "Python 3"
    }
  },
  "cells": [
    {
      "cell_type": "markdown",
      "metadata": {
        "id": "ywcQdwyPlyHa",
        "colab_type": "text"
      },
      "source": [
        "## *Make sure your file is accessable by anyone with the link!*\n",
        "\n",
        "* It's helpful to have a publicly shared folder when creating links, then you won't have to edit the Share setting for each individual file.\n",
        "* This script should work with every type of URL Google Drive can generate. As long as the File ID is there, anything else shouldn't matter."
      ]
    },
    {
      "cell_type": "markdown",
      "metadata": {
        "id": "oHr6jhgRn_5b",
        "colab_type": "text"
      },
      "source": [
        "\n",
        "\n",
        "---\n",
        "\n",
        "\n",
        "\n"
      ]
    },
    {
      "cell_type": "markdown",
      "metadata": {
        "id": "4zic5dVfpgPq",
        "colab_type": "text"
      },
      "source": [
        "឵឵ ឵"
      ]
    },
    {
      "cell_type": "code",
      "metadata": {
        "id": "tf-nH8B1lStj",
        "colab_type": "code",
        "cellView": "form",
        "colab": {}
      },
      "source": [
        "#@title ← ឵឵ ឵Click Here to Generate Streamable Links\n",
        "import re\n",
        "\n",
        "shared_file_link = \"\" #@param {type:\"string\"}\n",
        "result = re.search(\"[\\w-]{33}\", shared_file_link)\n",
        "your_api_key = \"\" #@param {type:\"string\"}\n",
        "drive_file_id = result.group(0)\n",
        "\n",
        "beg_url = \"https://www.googleapis.com/drive/v3/files/\"\n",
        "end_url = \"/?key=\" + your_api_key + \"&alt=media\"\n",
        "\n",
        "print(beg_url + drive_file_id + end_url)"
      ],
      "execution_count": 0,
      "outputs": []
    },
    {
      "cell_type": "markdown",
      "metadata": {
        "id": "U1imKxNtpoAO",
        "colab_type": "text"
      },
      "source": [
        "឵឵ ឵"
      ]
    },
    {
      "cell_type": "markdown",
      "metadata": {
        "id": "l-JR9_8XpNAF",
        "colab_type": "text"
      },
      "source": [
        "\n",
        "\n",
        "---\n",
        "\n"
      ]
    }
  ]
}